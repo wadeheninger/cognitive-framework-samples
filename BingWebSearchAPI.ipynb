{
 "cells": [
  {
   "cell_type": "markdown",
   "metadata": {
    "author": "jerrykindall",
    "description": "Get information and code samples to help you quickly get started using the Bing Web Search API in Microsoft Cognitive Services on Azure.",
    "documentationcenter": "",
    "ms.author": "v-jerkin",
    "ms.date": "9/18/2017",
    "ms.service": "cognitive-services",
    "ms.technology": "bing-search",
    "ms.topic": "article",
    "services": "cognitive-services",
    "title": "Call and response - Python Quickstart for Azure Cognitive Services, Bing Web Search API | Microsoft Docs"
   },
   "source": [
    "# Call and response: your first Bing Web Search query in Python\n",
    "\n",
    "The Bing Web Search API provides a experience similar to Bing.com/Search by returning search results that Bing determines are relevant to the user's query. The results may include Web pages, images, videos, news, and entities, along with related search queries, spelling corrections, time zones, unit conversion, translations, and calculations. The kinds of results you get are based on their relevance and the tier of the Bing Search APIs to which you subscribe.\n",
    "\n",
    "Refer to the [API reference](https://docs.microsoft.com/en-us/rest/api/cognitiveservices/bing-web-api-v7-reference) for technical details about the APIs.\n",
    "\n",
    "## Prerequisites\n",
    "You must have a [Cognitive Services API account](https://docs.microsoft.com/azure/cognitive-services/cognitive-services-apis-create-account) with **Bing Search APIs**. The [free trial](https://azure.microsoft.com/try/cognitive-services/?api=bing-web-search-api) is sufficient for this quickstart. You need the access key provided when you activate your free trial, or you may use a paid subscription key from your Azure dashboard.\n",
    "\n",
    "## Running the application"
   ]
  },
  {
   "cell_type": "markdown",
   "metadata": {},
   "source": [
    "Please set `subscriptionKey` below to your API key for the Bing API service."
   ]
  },
  {
   "cell_type": "code",
   "execution_count": 1,
   "metadata": {
    "collapsed": true
   },
   "outputs": [],
   "source": [
    "subscription_key = \"9f6105c9e84b4e65b6119769ee55c545\"\n",
    "assert subscription_key"
   ]
  },
  {
   "cell_type": "markdown",
   "metadata": {},
   "source": [
    "Next, please verify that the `search_url` endpoint is correct. At this writing, only one endpoint is used for Bing search APIs.  In the future, regional endpoints may be available.  If you encounter unexpected authorization errors, double-check this value against the endpoint for your Bing search instance in your Azure dashboard."
   ]
  },
  {
   "cell_type": "code",
   "execution_count": 2,
   "metadata": {
    "collapsed": true
   },
   "outputs": [],
   "source": [
    "search_url = \"https://api.cognitive.microsoft.com/bing/v7.0/search\""
   ]
  },
  {
   "cell_type": "markdown",
   "metadata": {},
   "source": [
    "We will now search Bing for Microsoft Cognitive Services."
   ]
  },
  {
   "cell_type": "code",
   "execution_count": 3,
   "metadata": {
    "collapsed": true
   },
   "outputs": [],
   "source": [
    "search_term = \"Microsoft Cognitive Services\""
   ]
  },
  {
   "cell_type": "markdown",
   "metadata": {},
   "source": [
    "The following block uses the `requests` library in Python to call out to the Bing seach APIs and return the results as a JSON object. Observe that we pass in the API key via the `headers` dictionary and the search term via the `params` dictionary. To see the full list of options that can be used to filter search results, please see the [REST API](https://docs.microsoft.com/en-us/rest/api/cognitiveservices/bing-web-api-v7-reference) documentation."
   ]
  },
  {
   "cell_type": "code",
   "execution_count": 4,
   "metadata": {
    "collapsed": true
   },
   "outputs": [],
   "source": [
    "import requests\n",
    "\n",
    "headers = {\"Ocp-Apim-Subscription-Key\" : subscription_key}\n",
    "params  = {\"q\": search_term, \"textDecorations\":True, \"textFormat\":\"HTML\"}\n",
    "response = requests.get(search_url, headers=headers, params=params)\n",
    "response.raise_for_status()\n",
    "search_results = response.json()"
   ]
  },
  {
   "cell_type": "markdown",
   "metadata": {},
   "source": [
    "The `search_results` object contains the research results along with rich metadata such as related queries and pages. We can format the top pages returned by the query using the following lines of code"
   ]
  },
  {
   "cell_type": "code",
   "execution_count": 5,
   "metadata": {},
   "outputs": [
    {
     "data": {
      "text/html": [
       "<table><tr>\n",
       "                       <td><a href=\"https://www.microsoft.com/cognitive-services\"><b>Microsoft</b> <b>Cognitive</b> <b>Services</b></a></td>\n",
       "                       <td>Knock down barriers between you and your ideas. Enable natural and contextual interaction with tools that augment users&#39; experiences via the power of machine-based AI. Plug them in and bring your ideas to life.</td>\n",
       "                     </tr>\n",
       "<tr>\n",
       "                       <td><a href=\"https://www.microsoft.com/en-us/trustcenter/cloudservices/cognitiveservices\"><b>Microsoft</b> Trust Center | <b>Microsoft Cognitive Services</b></a></td>\n",
       "                       <td><b>Microsoft Cognitive Services</b> is a collection of intelligent APIs that allow systems to understand and interpret people’s needs by using natural methods of ...</td>\n",
       "                     </tr>\n",
       "<tr>\n",
       "                       <td><a href=\"https://azure.microsoft.com/en-us/try/cognitive-services/\"><b>Cognitive</b> Service Try experience | <b>Microsoft Azure</b></a></td>\n",
       "                       <td><b>Microsoft Cognitive Services</b> Try experience lets you build apps with powerful algorithms using just a few lines of code through a 30 day trial.</td>\n",
       "                     </tr>\n",
       "<tr>\n",
       "                       <td><a href=\"https://docs.microsoft.com/en-us/azure/cognitive-services/Welcome\">What is <b>Microsoft Cognitive Services</b>? | <b>Microsoft</b> Docs</a></td>\n",
       "                       <td><b>Microsoft Cognitive Services</b> is a set of APIs, SDKs, and <b>services</b> that you can use with <b>Microsoft</b> Azure that make applications more intelligent, engaging, and ...</td>\n",
       "                     </tr>\n",
       "<tr>\n",
       "                       <td><a href=\"https://customers.microsoft.com/en-us/search?sq=%22Microsoft%20Cognitive%20Services%22&ff=&p=0&so=story_publish_date%20desc\"><b>Microsoft Cognitive Services</b> - customers.<b>microsoft</b>.com</a></td>\n",
       "                       <td><b>Microsoft</b> customer stories. See how <b>Microsoft</b> tools help companies run their business.</td>\n",
       "                     </tr>\n",
       "<tr>\n",
       "                       <td><a href=\"https://westus.dev.cognitive.microsoft.com/docs/services/563879b61984550e40cbbe8d/operations/563879b61984550f30395236\"><b>Microsoft Cognitive Services</b></a></td>\n",
       "                       <td>Face - Detect. Detect human faces in an image and returns face locations, and optionally with faceIds, landmarks, and attributes. Optional parameters for returning ...</td>\n",
       "                     </tr>\n",
       "<tr>\n",
       "                       <td><a href=\"https://msdn.microsoft.com/en-us/magazine/mt742868.aspx\"><b>Cognitive Services</b> - <b>msdn.microsoft.com</b></a></td>\n",
       "                       <td>This article explains how you can recognize face attributes and emotions using the new Face and Emotion APIs from the <b>Microsoft Cognitive Services</b> in Xamarin.Forms by ...</td>\n",
       "                     </tr>\n",
       "<tr>\n",
       "                       <td><a href=\"https://news.microsoft.com/cognitive/\"><b>Microsoft Cognitive Services</b></a></td>\n",
       "                       <td>The machine-learned smarts that enable <b>Microsoft</b>’s Skype Translator, Bing and Cortana to accomplish tasks such as translating conversations, compiling knowledge and ...</td>\n",
       "                     </tr>\n",
       "<tr>\n",
       "                       <td><a href=\"https://docs.microsoft.com/en-us/azure/cognitive-services/Computer-vision/Home\"><b>Computer Vision API</b> for <b>Microsoft Cognitive Services</b> ...</a></td>\n",
       "                       <td>Use advanced algorithms in the <b>Computer Vision API</b> to help you process images and return information in <b>Microsoft Cognitive Services</b>.</td>\n",
       "                     </tr></table>"
      ],
      "text/plain": [
       "<IPython.core.display.HTML object>"
      ]
     },
     "execution_count": 5,
     "metadata": {},
     "output_type": "execute_result"
    }
   ],
   "source": [
    "from IPython.display import HTML\n",
    "\n",
    "rows = \"\\n\".join([\"\"\"<tr>\n",
    "                       <td><a href=\\\"{0}\\\">{1}</a></td>\n",
    "                       <td>{2}</td>\n",
    "                     </tr>\"\"\".format(v[\"url\"],v[\"name\"],v[\"snippet\"]) \\\n",
    "                  for v in search_results[\"webPages\"][\"value\"]])\n",
    "HTML(\"<table>{0}</table>\".format(rows))"
   ]
  },
  {
   "cell_type": "markdown",
   "metadata": {},
   "source": [
    "## Next steps\n",
    "\n",
    "> [!div class=\"nextstepaction\"]\n",
    "> [Bing Web search single-page app tutorial](../tutorial-bing-web-search-single-page-app.md)\n",
    "\n",
    "## See also \n",
    "\n",
    "[Bing Web Search overview](../overview.md)  \n",
    "[Try it](https://azure.microsoft.com/services/cognitive-services/bing-web-search-api/)  \n",
    "[Get a free trial access key](https://azure.microsoft.com/try/cognitive-services/?api=bing-web-search-api)\n",
    "[Bing Web Search API reference](https://docs.microsoft.com/rest/api/cognitiveservices/bing-web-api-v7-reference)"
   ]
  }
 ],
 "metadata": {
  "kernelspec": {
   "display_name": "Python 3",
   "language": "python",
   "name": "python3"
  },
  "language_info": {
   "codemirror_mode": {
    "name": "ipython",
    "version": 3
   },
   "file_extension": ".py",
   "mimetype": "text/x-python",
   "name": "python",
   "nbconvert_exporter": "python",
   "pygments_lexer": "ipython3",
   "version": "3.6.3"
  },
  "ms_docs_meta": {
   "author": "jerrykindall",
   "description": "Get information and code samples to help you quickly get started using the Bing Web Search API in Microsoft Cognitive Services on Azure.",
   "documentationcenter": "''",
   "ms.author": "v-jerkin",
   "ms.date": "9/18/2017",
   "ms.service": "cognitive-services",
   "ms.technology": "bing-search",
   "ms.topic": "article",
   "services": "cognitive-services",
   "title": "Call and response - Python Quickstart for Azure Cognitive Services, Bing Web Search API | Microsoft Docs"
  }
 },
 "nbformat": 4,
 "nbformat_minor": 2
}
